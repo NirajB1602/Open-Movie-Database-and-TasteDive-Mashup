{
 "cells": [
  {
   "cell_type": "code",
   "execution_count": null,
   "id": "24787a5f",
   "metadata": {},
   "outputs": [],
   "source": [
    "import requests_with_caching\n",
    "import json\n",
    "def get_movies_from_tastedive(str1):\n",
    "    dictionary1 = {}\n",
    "    base_url = \"https://tastedive.com/api/similar\"\n",
    "    dictionary1[\"q\"] = str1\n",
    "    dictionary1[\"type\"] = \"movies\"\n",
    "    dictionary1[\"limit\"] = 5\n",
    "    output = requests_with_caching.get(base_url, params = dictionary1)\n",
    "    pretty_format_output = output.json()\n",
    "    return pretty_format_output"
   ]
  },
  {
   "cell_type": "code",
   "execution_count": null,
   "id": "3bc3e10b",
   "metadata": {},
   "outputs": [],
   "source": [
    "def extract_movie_titles(pretty_format_output):\n",
    "    movies_info = pretty_format_output[\"Similar\"]\n",
    "    results = movies_info[\"Results\"]\n",
    "    return ([d[\"Name\"] for d in results])"
   ]
  },
  {
   "cell_type": "code",
   "execution_count": null,
   "id": "d20a4f54",
   "metadata": {},
   "outputs": [],
   "source": [
    "def get_related_titles(movies_lst):\n",
    "    combined_movie_lst = []\n",
    "    for movie in movies_lst:\n",
    "        combined_movie_lst.extend(extract_movie_titles(get_movies_from_tastedive(movie)))\n",
    "    return list(set(combined_movie_lst))"
   ]
  },
  {
   "cell_type": "code",
   "execution_count": null,
   "id": "a464bda3",
   "metadata": {},
   "outputs": [],
   "source": [
    "def get_movie_data(str1):\n",
    "    dictionary1 = {}\n",
    "    base_url = \"http://www.omdbapi.com/\"\n",
    "    dictionary1[\"t\"] = str1\n",
    "    dictionary1[\"r\"] = \"json\"\n",
    "    output = requests_with_caching.get(base_url, params = dictionary1)\n",
    "    pretty_format_output = output.json()\n",
    "    return pretty_format_output"
   ]
  },
  {
   "cell_type": "code",
   "execution_count": null,
   "id": "a5da0832",
   "metadata": {},
   "outputs": [],
   "source": [
    "def get_movie_rating(dict_result):\n",
    "    ratings = dict_result[\"Ratings\"]\n",
    "    for word in ratings:\n",
    "        if word[\"Source\"] == 'Rotten Tomatoes':\n",
    "            return int(word[\"Value\"][:-1])\n",
    "    return 0"
   ]
  },
  {
   "cell_type": "code",
   "execution_count": null,
   "id": "8b5c4a1a",
   "metadata": {},
   "outputs": [],
   "source": [
    "def get_sorted_recommendations(movies_lst):\n",
    "    movie_titles = get_related_titles(movies_lst)\n",
    "    movie_ratings_info = {}\n",
    "    for movie in movie_titles:\n",
    "        rotten_tomatoes_rating = get_movie_rating(get_movie_data(movie))\n",
    "        movie_ratings_info[movie] = rotten_tomatoes_rating\n",
    "    \n",
    "    sorted_movie_dict = sorted(movie_ratings_info.items(), key=lambda item: (item[1], item[0]), reverse=True) \n",
    "    return [item[0] for item in sorted_movie_dict]"
   ]
  },
  {
   "cell_type": "code",
   "execution_count": null,
   "id": "12b156c6",
   "metadata": {},
   "outputs": [],
   "source": [
    "get_sorted_recommendations([\"Bridesmaids\", \"Sherlock Holmes\"])"
   ]
  },
  {
   "cell_type": "code",
   "execution_count": null,
   "id": "6bb9e5c0",
   "metadata": {},
   "outputs": [],
   "source": []
  },
  {
   "cell_type": "code",
   "execution_count": null,
   "id": "073241b5",
   "metadata": {},
   "outputs": [],
   "source": []
  }
 ],
 "metadata": {
  "kernelspec": {
   "display_name": "Python 3 (ipykernel)",
   "language": "python",
   "name": "python3"
  },
  "language_info": {
   "codemirror_mode": {
    "name": "ipython",
    "version": 3
   },
   "file_extension": ".py",
   "mimetype": "text/x-python",
   "name": "python",
   "nbconvert_exporter": "python",
   "pygments_lexer": "ipython3",
   "version": "3.9.13"
  }
 },
 "nbformat": 4,
 "nbformat_minor": 5
}
